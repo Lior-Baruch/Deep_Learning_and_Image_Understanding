{
 "cells": [
  {
   "cell_type": "markdown",
   "metadata": {
    "id": "QnJUALElET8I"
   },
   "source": [
    "# Exercise 1: Linear Image Classifier\n",
    "\n",
    "In this exercise you will implement a linear image classifier while getting familiar with `numpy` and the benefits of vectorized operations in Python. This exercise has 2 parts:\n",
    "\n",
    "1. Implementing loss functions, calculating gradients and implementing gradient descent.\n",
    "2. Training and evaluating several classifiers.\n",
    "\n",
    "## Submission guidelines:\n",
    "\n",
    "Your submission should only include this jupyter notebook named HW1_ID.ipynb.\n",
    "\n",
    "## Read the following instructions carefully:\n",
    "\n",
    "1. This jupyter notebook contains all the step by step instructions needed for this exercise.\n",
    "2. Write **efficient vectorized** code whenever instructed. \n",
    "3. You are responsible for the correctness of your code and should add as many tests as you see fit. Tests will not be graded nor checked.\n",
    "4. Do not change the functions we provided you. \n",
    "4. Write your functions in the instructed python modules only. All the logic you write is imported and used using this jupyter notebook. You are allowed to add functions as long as they are located in the python modules and are imported properly.\n",
    "5. You are allowed to use functions and methods from the [Python Standard Library](https://docs.python.org/3/library/) and [numpy](https://www.numpy.org/devdocs/reference/) only. Any other imports are forbidden.\n",
    "6. Your code must run without errors.\n",
    "7. Answers to qualitative questions should be written in **markdown** cells (with $\\LaTeX$ support).\n",
    "8. **TIP: When there is a TODO before a missing code segment (or function), you can continue without implementing it right away; you will be referred to the missing segment later in the exercise.**"
   ]
  },
  {
   "cell_type": "markdown",
   "metadata": {
    "id": "_r1L4UklET8K"
   },
   "source": [
    "Q: What files do we need to upload to moodle?\n",
    "\n",
    "A: You should fill in the missing parts in this Jupyter notebook and then submit it via moodle (without any additional files).\n",
    "\n",
    "Q: How do I make sure everything works before I submit?\n",
    "\n",
    "A: You should restart your kernel and rerun all cells. Make sure you get the desired output and that you meet exercise requirements. **This is an important step. You should include your desired outputs in the output cells to make your code easier to understand.**"
   ]
  },
  {
   "cell_type": "markdown",
   "metadata": {
    "id": "UV9XOToVGvLZ"
   },
   "source": [
    "#### Imports"
   ]
  },
  {
   "cell_type": "code",
   "execution_count": 1,
   "metadata": {
    "ExecuteTime": {
     "end_time": "2022-10-29T15:21:00.158255Z",
     "start_time": "2022-10-29T15:20:59.290618Z"
    },
    "id": "iLXvPpILET8K"
   },
   "outputs": [],
   "source": [
    "import os\n",
    "import numpy as np\n",
    "import matplotlib.pyplot as plt\n",
    "import pickle\n",
    "import numpy as np\n",
    "import os\n",
    "import sys\n",
    "import urllib.request\n",
    "import tarfile\n",
    "import zipfile\n",
    "from random import randrange\n",
    "from functools import partial\n",
    "import itertools\n",
    "import time\n",
    "\n",
    "# specify the way plots behave in jupyter notebook\n",
    "%matplotlib inline\n",
    "plt.rcParams['figure.figsize'] = (5.0, 3.0) # set default size of plots\n",
    "plt.rcParams['image.interpolation'] = 'nearest'\n",
    "plt.rcParams['image.cmap'] = 'gray'"
   ]
  },
  {
   "cell_type": "markdown",
   "metadata": {
    "heading_collapsed": true,
    "id": "BtYsC3I7ET8L"
   },
   "source": [
    "# Data preprocessing\n"
   ]
  },
  {
   "cell_type": "markdown",
   "metadata": {
    "hidden": true,
    "id": "-WovI1B4Gxwp"
   },
   "source": [
    "## Data download and processing Helper Code"
   ]
  },
  {
   "cell_type": "code",
   "execution_count": 2,
   "metadata": {
    "ExecuteTime": {
     "end_time": "2022-10-29T15:21:00.767100Z",
     "start_time": "2022-10-29T15:21:00.754066Z"
    },
    "code_folding": [],
    "hidden": true,
    "id": "sC6iBqvmGYsn"
   },
   "outputs": [],
   "source": [
    "def maybe_download_and_extract(url, download_dir):\n",
    "    \"\"\"\n",
    "    Download and extract the data if it doesn't already exist.\n",
    "    Assumes the url is a tar-ball file.\n",
    "    :param url:\n",
    "        Internet URL for the tar-file to download.\n",
    "        Example: \"https://www.cs.toronto.edu/~kriz/cifar-10-python.tar.gz\"\n",
    "    :param download_dir:\n",
    "        Directory where the downloaded file is saved.\n",
    "        Example: \"data/CIFAR-10/\"\n",
    "    :return:\n",
    "        Nothing.\n",
    "    \"\"\"\n",
    "\n",
    "    # Filename for saving the file downloaded from the internet.\n",
    "    # Use the filename from the URL and add it to the download_dir.\n",
    "    filename = url.split('/')[-1]\n",
    "    file_path = os.path.join(download_dir, filename)\n",
    "\n",
    "    # Check if the file already exists.\n",
    "    # If it exists then we assume it has also been extracted,\n",
    "    # otherwise we need to download and extract it now.\n",
    "    if not os.path.exists(file_path):\n",
    "        # Check if the download directory exists, otherwise create it.\n",
    "        if not os.path.exists(download_dir):\n",
    "            os.makedirs(download_dir)\n",
    "\n",
    "        # Download the file from the internet.\n",
    "        print(\"Downloading, This might take several minutes.\")\n",
    "        last_update_time = time.time()\n",
    "        file_path, _ = urllib.request.urlretrieve(url=url,\n",
    "                                                  filename=file_path)\n",
    "\n",
    "        print()\n",
    "        print(\"Download finished. Extracting files.\")\n",
    "\n",
    "        if file_path.endswith(\".zip\"):\n",
    "            # Unpack the zip-file.\n",
    "            zipfile.ZipFile(file=file_path, mode=\"r\").extractall(download_dir)\n",
    "        elif file_path.endswith((\".tar.gz\", \".tgz\")):\n",
    "            # Unpack the tar-ball.\n",
    "            tarfile.open(name=file_path, mode=\"r:gz\").extractall(download_dir)\n",
    "\n",
    "        print(\"Done.\")\n",
    "    else:\n",
    "        print(\"Data has apparently already been downloaded and unpacked.\")\n",
    "        print(\"If not, delete the dataset folder and try again.\")\n",
    "\n",
    "def load_CIFAR_batch(filename):\n",
    "    ''' load single batch of cifar '''\n",
    "    with open(filename, 'rb') as f:\n",
    "        datadict = pickle.load(f, encoding = 'latin1')\n",
    "        X = datadict['data']\n",
    "        Y = datadict['labels']\n",
    "        X = X.reshape(10000, 3, 32, 32).transpose(0, 2, 3, 1).astype(\"float\")\n",
    "        Y = np.array(Y)\n",
    "        return X, Y\n",
    "\n",
    "def load(ROOT):\n",
    "    ''' load all of cifar '''\n",
    "    xs = []\n",
    "    ys = []\n",
    "    for b in range(1, 6):\n",
    "        f = os.path.join(ROOT, 'data_batch_%d' % (b, ))\n",
    "        X, Y = load_CIFAR_batch(f)\n",
    "        xs.append(X)\n",
    "        ys.append(Y)\n",
    "    Xtr = np.concatenate(xs)\n",
    "    Ytr = np.concatenate(ys)\n",
    "    del X, Y\n",
    "    Xte, Yte = load_CIFAR_batch(os.path.join(ROOT, 'test_batch'))\n",
    "    return Xtr, Ytr, Xte, Yte"
   ]
  },
  {
   "cell_type": "markdown",
   "metadata": {
    "hidden": true,
    "id": "0qfmwr8lG3S8"
   },
   "source": [
    "## Data Download\n",
    "\n",
    "The next cell will download and extract CIFAR-10 into `datasets/cifar10/`. The CIFAR-10 dataset consists of 60,000 32x32 color images in 10 classes, with 6,000 images per class. There are 50,000 training images and 10,000 test images. The dataset is divided into five training batches and one test batch, each with 10,000 images. The test batch contains exactly 1,000 randomly-selected images from each class.\n"
   ]
  },
  {
   "cell_type": "code",
   "execution_count": 3,
   "metadata": {
    "ExecuteTime": {
     "end_time": "2022-10-29T15:21:01.686261Z",
     "start_time": "2022-10-29T15:21:01.675796Z"
    },
    "colab": {
     "base_uri": "https://localhost:8080/"
    },
    "hidden": true,
    "id": "eBbBnxJpET8L",
    "outputId": "e4af8f39-0870-46fb-99dd-ff73b23b955a"
   },
   "outputs": [
    {
     "name": "stdout",
     "output_type": "stream",
     "text": [
      "Downloading, This might take several minutes.\n",
      "\n",
      "Download finished. Extracting files.\n",
      "Done.\n"
     ]
    }
   ],
   "source": [
    "# this cell will download the data if it does not exists\n",
    "URL = \"https://www.cs.toronto.edu/~kriz/cifar-10-python.tar.gz\"\n",
    "PATH = 'datasets/cifar10/' # the script will create required directories\n",
    "maybe_download_and_extract(URL, PATH) "
   ]
  },
  {
   "cell_type": "markdown",
   "metadata": {
    "hidden": true,
    "id": "AIyo61vC-Dmv"
   },
   "source": [
    "## Data Preprocessing Part 1"
   ]
  },
  {
   "cell_type": "markdown",
   "metadata": {
    "hidden": true,
    "id": "ersTr2wB-RAd"
   },
   "source": [
    "We have included several image processing functions. Notice the following in particular: we created an additional validation dataset you need to use for hyperparameter optimization."
   ]
  },
  {
   "cell_type": "code",
   "execution_count": 4,
   "metadata": {
    "ExecuteTime": {
     "end_time": "2022-10-29T15:21:05.097768Z",
     "start_time": "2022-10-29T15:21:03.341893Z"
    },
    "hidden": true,
    "id": "NFUWV8LnET8M"
   },
   "outputs": [],
   "source": [
    "CIFAR10_PATH = os.path.join(PATH, 'cifar-10-batches-py')\n",
    "X_train, y_train, X_test, y_test = load(CIFAR10_PATH) # load the entire data\n",
    "\n",
    "# taking only two classes from the dataset\n",
    "X_train = X_train[np.logical_or(y_train == 0, y_train == 1)]\n",
    "y_train = y_train[np.logical_or(y_train == 0, y_train == 1)]\n",
    "X_test = X_test[np.logical_or(y_test == 0, y_test == 1)]\n",
    "y_test = y_test[np.logical_or(y_test == 0, y_test == 1)]\n",
    "\n",
    "# define a splitting for the data\n",
    "num_training = 10000\n",
    "num_validation = 1000\n",
    "num_testing = 1000\n",
    "\n",
    "mask = range(num_training)\n",
    "X_train = X_train[mask]\n",
    "y_train = y_train[mask]\n",
    "# portion from the test dataset a validation dataset for hyperparameter optimization\n",
    "mask = range(num_validation)\n",
    "X_val = X_test[mask]\n",
    "y_val = y_test[mask]\n",
    "# test dataset, without overlap with train/validation\n",
    "mask = range(num_validation, num_validation+num_testing)\n",
    "X_test = X_test[mask]\n",
    "y_test = y_test[mask]\n",
    "\n",
    "# float64\n",
    "X_train = X_train.astype(np.float64)\n",
    "X_val = X_val.astype(np.float64)\n",
    "X_test = X_test.astype(np.float64)\n",
    "\n",
    "classes = ('plane', 'car')"
   ]
  },
  {
   "cell_type": "code",
   "execution_count": 5,
   "metadata": {
    "ExecuteTime": {
     "end_time": "2022-10-29T15:21:05.911006Z",
     "start_time": "2022-10-29T15:21:05.755837Z"
    },
    "colab": {
     "base_uri": "https://localhost:8080/",
     "height": 0
    },
    "hidden": true,
    "id": "Daycmt2x5cVS",
    "outputId": "1df48d2b-4ea2-40a7-e834-8192deede687"
   },
   "outputs": [
    {
     "name": "stdout",
     "output_type": "stream",
     "text": [
      "      car\t      car\t      car\t      car\n"
     ]
    },
    {
     "data": {
      "text/plain": "<Figure size 500x300 with 1 Axes>",
      "image/png": "[encoded data removed]"
     },
     "metadata": {},
     "output_type": "display_data"
    }
   ],
   "source": [
    "def get_batch(X, y, n=1000):\n",
    "    rand_items = np.random.randint(0, X.shape[0], size=n)\n",
    "    images = X[rand_items]\n",
    "    labels = y[rand_items]\n",
    "    return images, labels\n",
    "\n",
    "def make_random_grid(x, y, n=4, convert_to_image=True, random_flag=True):\n",
    "    if random_flag:\n",
    "        rand_items = np.random.randint(0, x.shape[0], size=n)\n",
    "    else:\n",
    "        rand_items = np.arange(0, x.shape[0])\n",
    "    images = x[rand_items]\n",
    "    labels = y[rand_items]\n",
    "    if convert_to_image:\n",
    "        grid = np.hstack(np.array([np.asarray((vec_2_img(i) + mean_image), dtype=np.int64) for i in images]))\n",
    "    else:\n",
    "        grid = np.hstack(np.array([np.asarray(i, dtype=np.int64) for i in images]))\n",
    "    print('\\t'.join('%9s' % classes[labels[j]] for j in range(n)))\n",
    "    return grid\n",
    "\n",
    "def vec_2_img(x):\n",
    "    x = np.reshape(x[:-1], (32, 32, 3))\n",
    "    return x\n",
    "\n",
    "X_batch, y_batch = get_batch(X_test, y_test, 100)\n",
    "plt.imshow(make_random_grid(X_batch, y_batch, n=4, convert_to_image=False));"
   ]
  },
  {
   "cell_type": "markdown",
   "metadata": {
    "hidden": true,
    "id": "RhismcUO9-xk"
   },
   "source": [
    "## Data Preprocessing Part 2\n",
    "\n",
    "We have included several image processing functions. Notice the following in particular: We subtracted the mean from all the images in order to ignore illumination conditions while keeping the content of the image. Next, we flattened the images from a tensor of shape (32x32x3) to a vector with 3072 features (pixel values) so we would be able to use a simple matrix multiplication. Finally, we concatenated each image vector with an additional feature to account for the bias. This is known as the bias trick. \n",
    "\n",
    "Make sure you understand this image processing pipeline before diving into the rest of the code."
   ]
  },
  {
   "cell_type": "code",
   "execution_count": 6,
   "metadata": {
    "ExecuteTime": {
     "end_time": "2022-10-29T15:21:06.836277Z",
     "start_time": "2022-10-29T15:21:06.555473Z"
    },
    "colab": {
     "base_uri": "https://localhost:8080/"
    },
    "hidden": true,
    "id": "C9YCYi5KZhXD",
    "outputId": "b5933335-0b79-46d4-b57f-8221df717f5f"
   },
   "outputs": [
    {
     "name": "stdout",
     "output_type": "stream",
     "text": [
      "Shape of Training Set: (10000, 3073)\n",
      "Shape of Validation Set: (1000, 3073)\n",
      "Shape of Test Set: (1000, 3073)\n"
     ]
    }
   ],
   "source": [
    "# Final data preprocessing\n",
    "# subtract the mean from all the images in the batch\n",
    "mean_image = np.mean(X_train, axis=0)\n",
    "X_train -= mean_image\n",
    "X_val -= mean_image\n",
    "X_test -= mean_image\n",
    "\n",
    "# flatten all the images in the batch (make sure you understand why this is needed)\n",
    "X_train = np.reshape(X_train, newshape=(X_train.shape[0], -1))\n",
    "X_val = np.reshape(X_val, newshape=(X_val.shape[0], -1)) \n",
    "X_test = np.reshape(X_test, newshape=(X_test.shape[0], -1)) \n",
    "\n",
    "# add a bias term to all images in the batch\n",
    "X_train = np.hstack([X_train, np.ones((X_train.shape[0], 1))]) \n",
    "X_val = np.hstack([X_val, np.ones((X_val.shape[0], 1))]) \n",
    "X_test = np.hstack([X_test, np.ones((X_test.shape[0], 1))]) \n",
    "\n",
    "print(f\"Shape of Training Set: {X_train.shape}\")\n",
    "print(f\"Shape of Validation Set: {X_val.shape}\")\n",
    "print(f\"Shape of Test Set: {X_test.shape}\")"
   ]
  },
  {
   "cell_type": "markdown",
   "metadata": {
    "id": "1BX0bVW0ET8N"
   },
   "source": [
    "# Linear classifier: mapping images to scores\n",
    "\n",
    "During this exercise, we will maintain a python class with basic functionality (such as training the model). the linear classifiers we will build (perceptron, logistic regression) will inherit some functionality from that class and will change several functions (such as the loss function, for example). Read the code in the next cell and make sure you understand it. You might also find this [short classes in python tutorial](https://www.hackerearth.com/practice/python/object-oriented-programming/classes-and-objects-i/tutorial/) useful.\n"
   ]
  },
  {
   "cell_type": "code",
   "execution_count": 7,
   "metadata": {
    "ExecuteTime": {
     "end_time": "2022-10-29T15:21:15.523094Z",
     "start_time": "2022-10-29T15:21:15.502785Z"
    },
    "id": "FXAVk7l6LVty"
   },
   "outputs": [],
   "source": [
    "class LinearClassifier(object):\n",
    "    def __init__(self, X, y):\n",
    "        \"\"\"\n",
    "        Class constructor. Use this method to initiate the parameters of\n",
    "        your model (W)\n",
    "        *** Subclasses will override this. ***\n",
    "\n",
    "        Inputs:\n",
    "        - X: array of data\n",
    "        - y: 1-dimensional array of length N with binary labels\n",
    "\n",
    "        This function has no return value\n",
    "\n",
    "        \"\"\"\n",
    "        self.W = np.random.rand(X.shape[1]) * 0.001 #init W to random whights\n",
    "        pass\n",
    "\n",
    "    def predict(self, X):\n",
    "        \"\"\"\n",
    "        Use the weight of the classifier to predict a label. \n",
    "        *** Subclasses will override this. ***\n",
    "\n",
    "        Input: 2D array of size (num_instances, num_features).\n",
    "        Output: 1D array of class predictions (num_instances, 1). \n",
    "        \"\"\"\n",
    "        pass\n",
    "\n",
    "    def calc_accuracy(self, X, y):\n",
    "        \"\"\"\n",
    "        Calculate the accuracy on a dataset as the percentage of instances \n",
    "        that are classified correctly. \n",
    "\n",
    "        Inputs:\n",
    "        - W: array of weights\n",
    "        - X: array of data\n",
    "        - y: 1-dimensional array of length N with binary labels\n",
    "        Returns:\n",
    "        - accuracy as a single float\n",
    "        \"\"\"\n",
    "\n",
    "        accuracy = 0.0\n",
    "        ###########################################################################\n",
    "        # TODO: Implement this method.                                            #\n",
    "        ###########################################################################\n",
    "        #                          START OF YOUR CODE                             #\n",
    "        ###########################################################################\n",
    "        y_pred = self.predict(X)\n",
    "        accuracy = (np.sum(y_pred == y)/len(y)) * 100\n",
    "        ###########################################################################\n",
    "        #                           END OF YOUR CODE                              #\n",
    "        ###########################################################################\n",
    "\n",
    "        return accuracy\n",
    "\n",
    "\n",
    "    def train(self, X, y, learning_rate=1e-3, num_iters=100, batch_size=200, verbose=False):\n",
    "        #########################################################################\n",
    "        # TODO:                                                                 #\n",
    "        # Sample batch_size elements from the training data and their           #\n",
    "        # corresponding labels to use in every iteration.                       #\n",
    "        # Store the data in X_batch and their corresponding labels in           #\n",
    "        # y_batch                                                               #\n",
    "        #                                                                       #\n",
    "        # Hint: Use np.random.choice to generate indices. Sampling with         #\n",
    "        # replacement is faster than sampling without replacement.              #\n",
    "        #                                                                       #\n",
    "        # Next, calculate the loss and gradient and update the weights using    #\n",
    "        # the learning rate. Use the loss_history array to save the loss on     #\n",
    "        # iteration to visualize the loss.                                      #\n",
    "        #########################################################################\n",
    "        num_instances = X.shape[0]\n",
    "        loss_history = []\n",
    "        loss = 0.0\n",
    "        for i in range(num_iters):\n",
    "            X_batch = None\n",
    "            y_batch = None\n",
    "            ###########################################################################\n",
    "            # Create X_batch and y_batch. Call the loss method to get the loss value  # \n",
    "            # and grad (the loss function is being override, see the loss             #\n",
    "            # function return values).                                                #\n",
    "            # Finally, append each of the loss values created in each iteration       #\n",
    "            # to loss_history.                                                        #\n",
    "            ###########################################################################\n",
    "            #                          START OF YOUR CODE                             #\n",
    "            ###########################################################################\n",
    "            indices = np.random.choice(num_instances, batch_size, replace = True)\n",
    "            X_batch = X[indices]\n",
    "            y_batch = y[indices]\n",
    "            loss , dW = self.loss(X_batch, y_batch)\n",
    "            loss_history.append(loss)                  \n",
    "                        \n",
    "            ###########################################################################\n",
    "            #                           END OF YOUR CODE                              #\n",
    "            ###########################################################################\n",
    "            # TODO:                                                                   #\n",
    "            # Perform parameter update                                                #\n",
    "            # Update the weights using the gradient and the learning rate.            #\n",
    "            ###########################################################################\n",
    "            #                          START OF YOUR CODE                             #                                                         \n",
    "            ###########################################################################\n",
    "\n",
    "            if self.W.shape == dW.shape:\n",
    "               self.W -= learning_rate * dW\n",
    "            else:\n",
    "               #fixing the W vector case when binary and not 2 columns\n",
    "               self.W -= learning_rate * dW.reshape(self.W.shape)\n",
    "\n",
    "            ###########################################################################\n",
    "            #                       END OF YOUR CODE                                  #\n",
    "            ###########################################################################\n",
    "\n",
    "            if verbose and i % 100 == 0:\n",
    "                print ('iteration %d / %d: loss %f' % (i, num_iters, loss))\n",
    "\n",
    "        return loss_history\n",
    "\n",
    "\n",
    "    def loss(self, X, y):\n",
    "        \"\"\"\n",
    "        Compute the loss function and its derivative. \n",
    "        Subclasses will override this.\n",
    "        Inputs:\n",
    "        - X_batch: A numpy array of shape (N, D) containing a minibatch of N\n",
    "          data points; each point has dimension D.\n",
    "        - y_batch: A numpy array of shape (N,) containing labels for the minibatch.\n",
    "        Returns: A tuple containing:\n",
    "        - loss as a single float\n",
    "        - gradient with respect to self.W; an array of the same shape as W\n",
    "        \"\"\"\n",
    "        pass"
   ]
  },
  {
   "cell_type": "markdown",
   "metadata": {
    "id": "p9WqAhlmLMGU"
   },
   "source": [
    "## Linear perceptron\n",
    "Our first linear classifier will include a linear function that maps images to scores:\n",
    "\n",
    "$$\n",
    "f(x_i; W, b) = W\\cdot x_i + b\n",
    "$$\n",
    "\n",
    "As you learned in class, this linear classifier takes an input image $x_i$ and outputs a class score. Your goal is to **learn** the parameters $W$ and $b$ to best classify the images according to the provided labels. The linear perceptron is set up so that the perceptron learn to map the correct class for each image such that it will have a score higher than the incorrect class.\n",
    "\n",
    "Read the next code cell. The constructor of the `LinearPerceptron` class takes as input the dataset and labels in order to create appropriate parameters. Notice we are using the bias trick and only use the matrix `w` for convenience. Since we already have a (random) model, we can start predicting classes on images. Complete the method `predict` in the `LinearPerceptron` class. **(5 Points)**"
   ]
  },
  {
   "cell_type": "code",
   "execution_count": 8,
   "metadata": {
    "ExecuteTime": {
     "end_time": "2022-10-29T15:21:38.587623Z",
     "start_time": "2022-10-29T15:21:38.576532Z"
    },
    "id": "cfLTGvYILcJw"
   },
   "outputs": [],
   "source": [
    "class LinearPerceptron(LinearClassifier):\n",
    "    # Classifier that uses Perceptron loss\n",
    "\n",
    "    def __init__(self, X, y):\n",
    "        ###########################################################################\n",
    "        # Initiate the parameters of your model.                                  #\n",
    "        # You can assume y takes values 0...K-1 where K is number of classes      #\n",
    "        ###########################################################################\n",
    "        #                          START OF YOUR CODE                             # \n",
    "        ###########################################################################\n",
    "\n",
    "        self.W = np.random.rand(X.shape[1], 2) * 0.001 #init W to random whights\n",
    "        \n",
    "        ###########################################################################\n",
    "        #                           END OF YOUR CODE                              #\n",
    "        ###########################################################################\n",
    "\n",
    "\n",
    "    def predict(self, X):\n",
    "        y_pred = None\n",
    "        ###########################################################################\n",
    "        # Implement this method.                                                  #\n",
    "        ###########################################################################\n",
    "        #                          START OF YOUR CODE                             # \n",
    "        ###########################################################################\n",
    "\n",
    "        class_scores = np.dot(X, self.W) #calc scores with W\n",
    "        y_pred = np.argmax(class_scores, axis = 1) #choose the class with the highest score\n",
    "        \n",
    "        ###########################################################################\n",
    "        #                           END OF YOUR CODE                              #\n",
    "        ###########################################################################\n",
    "        return y_pred\n",
    "\n",
    "\n",
    "    def loss(self, X_batch, y_batch):\n",
    "        # perceptron_loss_vectorized will be implemented later\n",
    "        return perceptron_loss_vectorized(self.W, X_batch, y_batch)"
   ]
  },
  {
   "cell_type": "code",
   "execution_count": 9,
   "metadata": {
    "ExecuteTime": {
     "end_time": "2022-10-29T15:21:40.039042Z",
     "start_time": "2022-10-29T15:21:39.994118Z"
    },
    "id": "2cb3cgLeET8N"
   },
   "outputs": [],
   "source": [
    "classifier = LinearPerceptron(X_train, y_train)\n",
    "y_pred = classifier.predict(X_test)\n",
    "# Tests -\n",
    "#print(classifier.W)\n",
    "#print(y_pred)"
   ]
  },
  {
   "cell_type": "code",
   "execution_count": 10,
   "metadata": {
    "ExecuteTime": {
     "end_time": "2022-10-29T15:21:41.067042Z",
     "start_time": "2022-10-29T15:21:40.894184Z"
    },
    "colab": {
     "base_uri": "https://localhost:8080/",
     "height": 139
    },
    "id": "w2Cv7adkET8N",
    "outputId": "c59a7caa-22c4-4c43-c016-bf6176a5a8d2"
   },
   "outputs": [
    {
     "name": "stdout",
     "output_type": "stream",
     "text": [
      "    plane\t      car\t    plane\t      car\n"
     ]
    },
    {
     "data": {
      "text/plain": "<Figure size 500x300 with 1 Axes>",
      "image/png": "[encoded data removed]"
     },
     "metadata": {},
     "output_type": "display_data"
    }
   ],
   "source": [
    "X_batch, y_batch = get_batch(X_train, y_train, 4)\n",
    "plt.imshow(make_random_grid(X_batch, y_batch, convert_to_image=True))\n",
    "plt.show()"
   ]
  },
  {
   "cell_type": "code",
   "execution_count": 11,
   "metadata": {
    "ExecuteTime": {
     "end_time": "2022-10-29T15:21:42.911853Z",
     "start_time": "2022-10-29T15:21:42.897375Z"
    },
    "colab": {
     "base_uri": "https://localhost:8080/"
    },
    "id": "BKUh3OFFET8N",
    "outputId": "5f2bc7fb-e6e4-4790-a38a-6b3bbbb9c135"
   },
   "outputs": [
    {
     "name": "stdout",
     "output_type": "stream",
     "text": [
      "    plane       car       car       car\n"
     ]
    }
   ],
   "source": [
    "# predictions\n",
    "print(' '.join('%9s' % classes[y_pred[j]] for j in range(4)))"
   ]
  },
  {
   "cell_type": "markdown",
   "metadata": {
    "id": "N-1RXh-lET8O"
   },
   "source": [
    "## Evaluation \n",
    "\n",
    "Complete the class method `calc_accuracy`. **(5 Points)**"
   ]
  },
  {
   "cell_type": "code",
   "execution_count": 12,
   "metadata": {
    "ExecuteTime": {
     "end_time": "2022-10-29T15:23:38.099891Z",
     "start_time": "2022-10-29T15:23:38.029739Z"
    },
    "colab": {
     "base_uri": "https://localhost:8080/"
    },
    "id": "IiSJ5-wvET8O",
    "outputId": "a5a762f6-8061-4a88-e1c0-0dec6ed0d6ee"
   },
   "outputs": [
    {
     "name": "stdout",
     "output_type": "stream",
     "text": [
      "model accuracy:  50.68\n"
     ]
    }
   ],
   "source": [
    "print(\"model accuracy: \", classifier.calc_accuracy(X_train, y_train))"
   ]
  },
  {
   "cell_type": "markdown",
   "metadata": {
    "id": "fAFp3MOYET8O"
   },
   "source": [
    "**Explain why the accuracy on the training dataset is around 50% (remember, the model is not trained yet). **(5 Points)**** \n",
    "\n",
    "Answer: we have two classes and a random W (we did not update W yet), so it is like taking a random guess with two classes (i assume the number of cars and planes are similar) so we have a 50% chance on guessing right"
   ]
  },
  {
   "cell_type": "markdown",
   "metadata": {
    "id": "kuFKR-UKET8O"
   },
   "source": [
    "## Perceptron loss\n",
    "\n",
    "Your code for this section will all be written in the next cell. In this section, we write and test code outside the classes for convenience. Notice the loss method for each class is just a call for the loss function written in the next cell. Once you are finished with implementation, everything should work.\n",
    "\n",
    "First, complete the function `perceptron_loss_naive`. This function takes as input the weights, data, labels and outputs the calculated loss as a single number and the gradients with respect to W.  **(15 points)**"
   ]
  },
  {
   "cell_type": "code",
   "execution_count": 13,
   "metadata": {
    "ExecuteTime": {
     "end_time": "2022-10-29T15:23:57.192000Z",
     "start_time": "2022-10-29T15:23:57.177408Z"
    },
    "id": "McEGmknNYFXC"
   },
   "outputs": [],
   "source": [
    "def perceptron_loss_naive(W, X, y):\n",
    "    \"\"\"\n",
    "    Structured perceptron loss function, naive implementation (with loops)\n",
    "    Inputs:\n",
    "    - W: array of weights\n",
    "    - X: array of data\n",
    "    - y: 1-dimensional array of length N with labels 0...K-1, for K classes\n",
    "    Returns:\n",
    "    a tuple of:\n",
    "    - loss as single float\n",
    "    - gradient with respect to weights W; an array of same shape as W\n",
    "    \"\"\"\n",
    "    loss = 0.0\n",
    "    dW = np.zeros(W.shape) # initialize the gradient as zero\n",
    "    #############################################################################\n",
    "    # Compute the perceptron loss as learned in class. Start by iterating over  #\n",
    "    # over all instances and calculate the score and true score for each.       #\n",
    "    # Now, for each class determine if the prediction is correct and update the #\n",
    "    # loss over all mistakes.                                                   #\n",
    "    # Compute the gradient of the loss function and store it as dW.             #\n",
    "    # Rather that first computing the loss and then computing the derivative,   #\n",
    "    # it may be simpler to compute the derivative at the same time that the     #\n",
    "    # loss is being computed.                                                   #\n",
    "    #############################################################################\n",
    "    class_scores = np.dot(X, W) #each row is the scores of a single instance\n",
    "    num_of_class = W. shape[1] #each col in W is a W for a single class\n",
    "    num_of_instances = y.shape[0]\n",
    "    for sample_i in range(num_of_instances):\n",
    "        true_score = class_scores[sample_i][y[sample_i]]\n",
    "        num_of_wrong_scores = 0\n",
    "        for class_j in range(num_of_class):\n",
    "            difference = class_scores[sample_i][class_j] - true_score\n",
    "            if difference > 0: #if the score of a class is higher than the the true score\n",
    "               loss += difference #add difference to loss\n",
    "               num_of_wrong_scores += 1\n",
    "               #push wrong class gradient to sample_i diraction\n",
    "               dW[:,class_j] += X[sample_i]\n",
    "         #push correct class gradient away from sample_i diraction       \n",
    "        dW[:, y[sample_i]] += (-1) * num_of_wrong_scores * X[sample_i]\n",
    "    # divide by num_of_instances    \n",
    "    loss /= num_of_instances\n",
    "    dW /= num_of_instances\n",
    "    \n",
    "    \n",
    "    \n",
    "    #############################################################################\n",
    "    #                             END OF YOUR CODE                              #\n",
    "    #############################################################################\n",
    "    return loss, dW"
   ]
  },
  {
   "cell_type": "code",
   "execution_count": 14,
   "metadata": {
    "ExecuteTime": {
     "end_time": "2022-10-29T15:23:58.297179Z",
     "start_time": "2022-10-29T15:23:58.278906Z"
    },
    "id": "tGcQrlGJET8O"
   },
   "outputs": [],
   "source": [
    "W = np.random.randn(3073, 2) * 0.0001 #W = np.random.randn(3073, 1) * 0.0001"
   ]
  },
  {
   "cell_type": "code",
   "execution_count": 15,
   "metadata": {
    "ExecuteTime": {
     "end_time": "2022-10-29T15:23:59.483591Z",
     "start_time": "2022-10-29T15:23:59.450741Z"
    },
    "colab": {
     "base_uri": "https://localhost:8080/"
    },
    "id": "UKmH67DEET8O",
    "outputId": "f49fda6c-0477-4998-cfe8-6020ebbfcb8c"
   },
   "outputs": [
    {
     "name": "stdout",
     "output_type": "stream",
     "text": [
      "loss: 0.100869\n",
      "CPU times: total: 93.8 ms\n",
      "Wall time: 16.6 ms\n"
     ]
    }
   ],
   "source": [
    "%%time\n",
    "loss_naive, _ = perceptron_loss_naive(W, X_val, y_val)\n",
    "print ('loss: %f' % (loss_naive))\n",
    "#print(perceptron_loss_naive(W, X_val, y_val))"
   ]
  },
  {
   "cell_type": "markdown",
   "metadata": {
    "id": "Z-Hh-R7bET8P"
   },
   "source": [
    "Once your code works, complete the function `perceptron_loss_vectorized` and compare the results of the two functions using the cell below. **(15 points)**"
   ]
  },
  {
   "cell_type": "code",
   "execution_count": 16,
   "metadata": {
    "ExecuteTime": {
     "end_time": "2022-10-29T15:24:11.592697Z",
     "start_time": "2022-10-29T15:24:11.576004Z"
    },
    "id": "w1HLNSCWYIRK"
   },
   "outputs": [],
   "source": [
    "def perceptron_loss_vectorized(W, X, y):\n",
    "    \"\"\"\n",
    "    Vectorized version of perceptron_loss_naive. instead of loops, should use \n",
    "    numpy vectorization.\n",
    "\n",
    "    Inputs and outputs are the same as perceptron_loss_naive.\n",
    "    \"\"\"\n",
    "    loss = 0.0\n",
    "    dW = np.zeros(W.shape) # initialize the gradient as zero\n",
    "    #############################################################################\n",
    "    # Implement a vectorized version of the perceptron loss, storing the       #\n",
    "    # result in loss and the gradient in dW                                     #\n",
    "    #############################################################################\n",
    "    class_scores = np.dot(X, W) #each row in class_scores in the scores of a single sample\n",
    "    num_of_class = W.shape[1] #each col in W is a W for a single class\n",
    "    num_of_samples = y.shape[0]\n",
    "    true_class_scores = class_scores[range(num_of_samples),y]\n",
    "    true_class_scores = true_class_scores.reshape(num_of_samples, -1) # each row for each sample\n",
    "    #print(true_class_scores)\n",
    "    scores_difference = class_scores - true_class_scores\n",
    "    scores_difference[scores_difference < 0] = 0\n",
    "    loss = np.sum(scores_difference) / num_of_samples\n",
    "    wrong_score = np.zeros(scores_difference.shape)\n",
    "    wrong_score[scores_difference > 0] = 1\n",
    "    wrong_score[np.arange(num_of_samples), y] = -np.sum(wrong_score, axis=1)\n",
    "    dW = np.dot(np.transpose(X), wrong_score)\n",
    "    dW /= num_of_samples\n",
    "    \n",
    "    \n",
    "    #############################################################################\n",
    "    #                             END OF YOUR CODE                              #\n",
    "    #############################################################################\n",
    "    return loss, dW"
   ]
  },
  {
   "cell_type": "code",
   "execution_count": 17,
   "metadata": {
    "ExecuteTime": {
     "end_time": "2022-10-29T15:24:12.996442Z",
     "start_time": "2022-10-29T15:24:12.949777Z"
    },
    "colab": {
     "base_uri": "https://localhost:8080/"
    },
    "id": "_puMMu8vET8P",
    "outputId": "76cc49c9-b93e-4dbf-ca82-fce747a125b8",
    "scrolled": true
   },
   "outputs": [
    {
     "name": "stdout",
     "output_type": "stream",
     "text": [
      "loss: 0.100869\n",
      "CPU times: total: 62.5 ms\n",
      "Wall time: 10.1 ms\n"
     ]
    }
   ],
   "source": [
    "%%time\n",
    "loss_vectorized, _ = perceptron_loss_vectorized(W, X_val, y_val)\n",
    "print ('loss: %f' % (loss_vectorized))"
   ]
  },
  {
   "cell_type": "markdown",
   "metadata": {
    "id": "E6oNHXGHET8P"
   },
   "source": [
    "You might not see big changes in time due to other computing factors. In big enough datasets it would be crucial to use the vectorized version.\n",
    "\n",
    "We have obtained an efficient function for loss and gradient calculation and we can now train our network. Complete the function `train` in the `LinearClassifier` class. (**15 points**)"
   ]
  },
  {
   "cell_type": "code",
   "execution_count": 18,
   "metadata": {
    "ExecuteTime": {
     "end_time": "2022-10-29T15:24:38.956156Z",
     "start_time": "2022-10-29T15:24:31.984850Z"
    },
    "colab": {
     "base_uri": "https://localhost:8080/"
    },
    "id": "_QtvCxghET8P",
    "outputId": "9df82a22-c8d0-4d6e-93b8-7abbcc368942"
   },
   "outputs": [
    {
     "name": "stdout",
     "output_type": "stream",
     "text": [
      "iteration 0 / 1500: loss 0.932270\n",
      "iteration 100 / 1500: loss 0.156650\n",
      "iteration 200 / 1500: loss 0.193075\n",
      "iteration 300 / 1500: loss 0.159403\n",
      "iteration 400 / 1500: loss 0.112461\n",
      "iteration 500 / 1500: loss 0.104821\n",
      "iteration 600 / 1500: loss 0.110556\n",
      "iteration 700 / 1500: loss 0.116294\n",
      "iteration 800 / 1500: loss 0.084215\n",
      "iteration 900 / 1500: loss 0.079309\n",
      "iteration 1000 / 1500: loss 0.087434\n",
      "iteration 1100 / 1500: loss 0.080816\n",
      "iteration 1200 / 1500: loss 0.051370\n",
      "iteration 1300 / 1500: loss 0.085037\n",
      "iteration 1400 / 1500: loss 0.066772\n",
      "CPU times: total: 32.6 s\n",
      "Wall time: 5 s\n"
     ]
    }
   ],
   "source": [
    "%%time\n",
    "perceptron = LinearPerceptron(X_train, y_train)\n",
    "loss_history = perceptron.train(X_train, y_train, learning_rate=1e-7, \n",
    "                                num_iters=1500, verbose=True)"
   ]
  },
  {
   "cell_type": "code",
   "execution_count": 19,
   "metadata": {
    "ExecuteTime": {
     "end_time": "2022-10-29T15:24:39.656566Z",
     "start_time": "2022-10-29T15:24:39.516553Z"
    },
    "colab": {
     "base_uri": "https://localhost:8080/",
     "height": 225
    },
    "id": "_jzvksCFET8P",
    "outputId": "a2e1258e-02bb-4101-ba16-eb0570e3f960",
    "scrolled": false
   },
   "outputs": [
    {
     "data": {
      "text/plain": "<Figure size 500x300 with 1 Axes>",
      "image/png": "[encoded data removed]"
     },
     "metadata": {},
     "output_type": "display_data"
    }
   ],
   "source": [
    "plt.plot(loss_history)\n",
    "plt.xlabel('Iteration number')\n",
    "plt.ylabel('Loss value')\n",
    "plt.show()"
   ]
  },
  {
   "cell_type": "code",
   "execution_count": 20,
   "metadata": {
    "ExecuteTime": {
     "end_time": "2022-10-29T15:24:40.310924Z",
     "start_time": "2022-10-29T15:24:40.267510Z"
    },
    "colab": {
     "base_uri": "https://localhost:8080/"
    },
    "id": "eFNormxyET8P",
    "outputId": "6989c2d0-35bc-4c83-d529-b03a1cea981b"
   },
   "outputs": [
    {
     "name": "stdout",
     "output_type": "stream",
     "text": [
      "Training accuracy:  77.08\n",
      "Testing accuracy:  77.2\n"
     ]
    }
   ],
   "source": [
    "print(\"Training accuracy: \", perceptron.calc_accuracy(X_train, y_train))\n",
    "print(\"Testing accuracy: \", perceptron.calc_accuracy(X_test, y_test))"
   ]
  },
  {
   "cell_type": "markdown",
   "metadata": {
    "id": "R277VSx8ET8P"
   },
   "source": [
    "## Hyperparameter optimization\n",
    "\n",
    "Your model should have improved from 50% accuracy to ~75% accuracy in a matter of seconds. Now, use the validation set to tune hyperparameters by training different models (using the training dataset) and evaluating the performance using the validation dataset. Save the results in a dictionary mapping tuples of the form `(learning_rate, batch_size)` to tuples of the form `(training_accuracy, validation_accuracy)`. Finally, you should evaluate the best model on the testing dataset. \n",
    "\n",
    "Use a small value for the number of iterations as you develop your code. Once you are confident that everything works, run it again for more iterations. **(5 points)**\n"
   ]
  },
  {
   "cell_type": "code",
   "execution_count": 21,
   "metadata": {
    "ExecuteTime": {
     "end_time": "2022-10-29T15:28:28.780040Z",
     "start_time": "2022-10-29T15:27:34.777137Z"
    },
    "colab": {
     "base_uri": "https://localhost:8080/"
    },
    "id": "m_g5iSBQET8Q",
    "outputId": "a9e09fba-eb72-4ea4-fe20-980938e1b3e7"
   },
   "outputs": [
    {
     "name": "stdout",
     "output_type": "stream",
     "text": [
      "iteration 0 / 1000: loss 0.152895\n",
      "iteration 100 / 1000: loss 0.000000\n",
      "iteration 200 / 1000: loss 2.899484\n",
      "iteration 300 / 1000: loss 0.000000\n",
      "iteration 400 / 1000: loss 3.034828\n",
      "iteration 500 / 1000: loss 0.000000\n",
      "iteration 600 / 1000: loss 0.000000\n",
      "iteration 700 / 1000: loss 0.177609\n",
      "iteration 800 / 1000: loss 0.000000\n",
      "iteration 900 / 1000: loss 0.000000\n",
      "iteration 0 / 1000: loss 0.415784\n",
      "iteration 100 / 1000: loss 0.208123\n",
      "iteration 200 / 1000: loss 0.165567\n",
      "iteration 300 / 1000: loss 0.126064\n",
      "iteration 400 / 1000: loss 0.095053\n",
      "iteration 500 / 1000: loss 0.070371\n",
      "iteration 600 / 1000: loss 0.114824\n",
      "iteration 700 / 1000: loss 0.148734\n",
      "iteration 800 / 1000: loss 0.087031\n",
      "iteration 900 / 1000: loss 0.100906\n",
      "iteration 0 / 1000: loss 0.512880\n",
      "iteration 100 / 1000: loss 0.153166\n",
      "iteration 200 / 1000: loss 0.145129\n",
      "iteration 300 / 1000: loss 0.117951\n",
      "iteration 400 / 1000: loss 0.094915\n",
      "iteration 500 / 1000: loss 0.100594\n",
      "iteration 600 / 1000: loss 0.092150\n",
      "iteration 700 / 1000: loss 0.104619\n",
      "iteration 800 / 1000: loss 0.116974\n",
      "iteration 900 / 1000: loss 0.057473\n",
      "iteration 0 / 1000: loss 0.812120\n",
      "iteration 100 / 1000: loss 0.179918\n",
      "iteration 200 / 1000: loss 0.158025\n",
      "iteration 300 / 1000: loss 0.116833\n",
      "iteration 400 / 1000: loss 0.101689\n",
      "iteration 500 / 1000: loss 0.106231\n",
      "iteration 600 / 1000: loss 0.090446\n",
      "iteration 700 / 1000: loss 0.081251\n",
      "iteration 800 / 1000: loss 0.091359\n",
      "iteration 900 / 1000: loss 0.091148\n",
      "iteration 0 / 1000: loss 0.232217\n",
      "iteration 100 / 1000: loss 0.000000\n",
      "iteration 200 / 1000: loss 0.000000\n",
      "iteration 300 / 1000: loss 0.000000\n",
      "iteration 400 / 1000: loss 0.000000\n",
      "iteration 500 / 1000: loss 0.000000\n",
      "iteration 600 / 1000: loss 0.000000\n",
      "iteration 700 / 1000: loss 0.000000\n",
      "iteration 800 / 1000: loss 0.000000\n",
      "iteration 900 / 1000: loss 0.000000\n",
      "iteration 0 / 1000: loss 0.557099\n",
      "iteration 100 / 1000: loss 2.231212\n",
      "iteration 200 / 1000: loss 0.566813\n",
      "iteration 300 / 1000: loss 1.038638\n",
      "iteration 400 / 1000: loss 0.414846\n",
      "iteration 500 / 1000: loss 1.782208\n",
      "iteration 600 / 1000: loss 1.053092\n",
      "iteration 700 / 1000: loss 1.130145\n",
      "iteration 800 / 1000: loss 0.955828\n",
      "iteration 900 / 1000: loss 0.662071\n",
      "iteration 0 / 1000: loss 0.555016\n",
      "iteration 100 / 1000: loss 1.031572\n",
      "iteration 200 / 1000: loss 0.698461\n",
      "iteration 300 / 1000: loss 0.277263\n",
      "iteration 400 / 1000: loss 0.649779\n",
      "iteration 500 / 1000: loss 0.358406\n",
      "iteration 600 / 1000: loss 0.828751\n",
      "iteration 700 / 1000: loss 0.314642\n",
      "iteration 800 / 1000: loss 0.270385\n",
      "iteration 900 / 1000: loss 0.452910\n",
      "iteration 0 / 1000: loss 0.942704\n",
      "iteration 100 / 1000: loss 0.577133\n",
      "iteration 200 / 1000: loss 1.886743\n",
      "iteration 300 / 1000: loss 0.505435\n",
      "iteration 400 / 1000: loss 0.440125\n",
      "iteration 500 / 1000: loss 0.402963\n",
      "iteration 600 / 1000: loss 1.467774\n",
      "iteration 700 / 1000: loss 0.352501\n",
      "iteration 800 / 1000: loss 0.368787\n",
      "iteration 900 / 1000: loss 0.405718\n",
      "lr 1.000000e-07 batch_size 1.000000e+00 train accuracy: 77.160000 val accuracy: 76.900000\n",
      "lr 1.000000e-07 batch_size 1.000000e+02 train accuracy: 75.190000 val accuracy: 75.600000\n",
      "lr 1.000000e-07 batch_size 2.000000e+02 train accuracy: 76.480000 val accuracy: 76.000000\n",
      "lr 1.000000e-07 batch_size 5.000000e+02 train accuracy: 74.670000 val accuracy: 74.500000\n",
      "lr 5.000000e-06 batch_size 1.000000e+00 train accuracy: 76.160000 val accuracy: 76.900000\n",
      "lr 5.000000e-06 batch_size 1.000000e+02 train accuracy: 75.050000 val accuracy: 76.200000\n",
      "lr 5.000000e-06 batch_size 2.000000e+02 train accuracy: 69.230000 val accuracy: 67.400000\n",
      "lr 5.000000e-06 batch_size 5.000000e+02 train accuracy: 75.520000 val accuracy: 77.100000\n",
      "best validation accuracy achieved during cross-validation: 77.100000\n",
      "linear perceptron on raw pixels final test set accuracy: 75.800000\n"
     ]
    }
   ],
   "source": [
    "# You are encouraged to experiment with additional values\n",
    "learning_rates = [1e-7, 5e-6]\n",
    "batch_sizes = [1, 100, 200, 500]\n",
    "\n",
    "results = {}\n",
    "best_val = -1   # The highest validation accuracy that we have seen so far.\n",
    "best_perceptron = None # The LinearPerceptron object that achieved the highest validation rate.\n",
    "\n",
    "################################################################################\n",
    "#                            START OF YOUR CODE                                #\n",
    "################################################################################\n",
    "for lr in learning_rates:\n",
    "    for bs in batch_sizes:\n",
    "        num_of_iters = 1000 #random number of iters\n",
    "        current_Linear_perceptron = LinearPerceptron(X_train, y_train)\n",
    "        current_Linear_perceptron.train(X = X_train, y = y_train, learning_rate = lr, num_iters = num_of_iters, batch_size = bs, verbose = True)\n",
    "        current_train_accuracy = current_Linear_perceptron.calc_accuracy(X_train, y_train)\n",
    "        current_val_accuracy = current_Linear_perceptron.calc_accuracy(X_val, y_val)\n",
    "        results[(lr, bs)] = (current_train_accuracy, current_val_accuracy)\n",
    "\n",
    "        if current_val_accuracy > best_val:\n",
    "           best_val = current_val_accuracy\n",
    "           best_perceptron = current_Linear_perceptron\n",
    "\n",
    "################################################################################\n",
    "#                              END OF YOUR CODE                                #\n",
    "################################################################################\n",
    "    \n",
    "# Print out results.\n",
    "for lr, batch_size in sorted(results):\n",
    "    train_accuracy, val_accuracy = results[(lr, batch_size)]\n",
    "    print ('lr %e batch_size %e train accuracy: %f val accuracy: %f' % (\n",
    "                lr, batch_size, train_accuracy, val_accuracy))\n",
    "    \n",
    "print ('best validation accuracy achieved during cross-validation: %f' % best_val)\n",
    "\n",
    "test_accuracy = best_perceptron.calc_accuracy(X_test, y_test)\n",
    "print ('linear perceptron on raw pixels final test set accuracy: %f' % test_accuracy)"
   ]
  },
  {
   "cell_type": "markdown",
   "metadata": {
    "id": "upoW3pQ1ET8Q"
   },
   "source": [
    "## Logistic regression\n",
    "\n",
    "Another choice for a binary classifier is the binary logistic regression classifier. Unlike the perceptron which treats the outputs as uncalibrated and possibly difficult to interpret scores for each class, the binary logistic regression classifier gives a slightly more intuitive output in the form of normalized class probabilities. In this classifier, the function mapping $f(x_i; W, b) = W\\cdot x_i + b$ stays unchanged but we now interpret these scores as the unnormalized log probabilities for each class and replace the perceptron loss with a cross-entropy loss. In this exercise, we will define our binary logistic regression classifier to have one input.       \n",
    "\n",
    "Read the next code cell. The constructor of the `LogisticRegression` class takes as input the dataset and labels in order to create appropriate parameters. Notice we are using the bias trick and only use the matrix `w` for convenience. Since we already have a (random) model, we can start predicting classes on images. Complete the method `predict` in the `LogisticRegression` class - remember you need to implement the sigmoid function before you can obtain predictions using your classifier. **(10 Points)**\n",
    "\n",
    "**Important note**: values passed to the `sigmoid` function can be arbitrarily large or small. When we take the exponent of such values, we might encounter extreme values that might *overflow*. This is known as numerical instability and you should always take care when you use exponent in your functions. "
   ]
  },
  {
   "cell_type": "code",
   "execution_count": 22,
   "metadata": {
    "ExecuteTime": {
     "end_time": "2022-10-29T15:30:35.229664Z",
     "start_time": "2022-10-29T15:30:35.184722Z"
    },
    "id": "Y9cU2sJ_X96d"
   },
   "outputs": [],
   "source": [
    "def sigmoid(x):\n",
    "    \"\"\"\n",
    "    Numerically stable Sigmoid function.\n",
    "\n",
    "    Input: any unnormalized log probabilities vector\n",
    "    Output: normalized probabilities\n",
    "    \"\"\"\n",
    "    #############################################################################\n",
    "    # Implement the function                                                    #\n",
    "    #############################################################################\n",
    "    return 1. / ( 1. + np.exp(-x) )\n",
    "    \n",
    "    #############################################################################\n",
    "    #                             END OF YOUR CODE                              #\n",
    "    #############################################################################"
   ]
  },
  {
   "cell_type": "code",
   "execution_count": 23,
   "metadata": {
    "ExecuteTime": {
     "end_time": "2022-10-29T15:30:52.504993Z",
     "start_time": "2022-10-29T15:30:52.486057Z"
    },
    "id": "oGClf3GJLlBp"
   },
   "outputs": [],
   "source": [
    "class LogisticRegression(LinearClassifier):\n",
    "    # Classifer that uses sigmoid and binary cross entropy loss\n",
    "    def __init__(self, X, y):\n",
    "        self.W = None\n",
    "        ###########################################################################\n",
    "        # Initiate the parameters of your model.                                  #\n",
    "        ###########################################################################\n",
    "        self.W = np.random.rand(X.shape[1], 1) * 0.001 #init W to random whights (binary case)\n",
    "        \n",
    "        ###########################################################################\n",
    "        #                           END OF YOUR CODE                              #\n",
    "        ###########################################################################\n",
    "\n",
    "\n",
    "    def predict(self, X):\n",
    "        y_pred = None\n",
    "        ###########################################################################\n",
    "        # Implement this method.                                                  #\n",
    "        ###########################################################################\n",
    "        class_scores = np.dot(X, self.W) #each row in class_scores in the scores of a single sample\n",
    "        num_of_class = self.W.shape[1] #each col in W is a W for a single class\n",
    "        y_pred = sigmoid(class_scores) # make 0 < predict < 1\n",
    "        y_pred[y_pred >= 0.5] = 1\n",
    "        y_pred[y_pred < 0.5] = 0\n",
    "        y_pred = y_pred.astype(int).reshape(class_scores.shape[0])\n",
    "        #print(y_pred)\n",
    "        \n",
    "        ###########################################################################\n",
    "        #                           END OF YOUR CODE                              #\n",
    "        ###########################################################################\n",
    "        return y_pred\n",
    "\n",
    "\n",
    "    def loss(self, X_batch, y_batch):\n",
    "        # will be implemented later\n",
    "        return binary_cross_entropy(self.W, X_batch, y_batch)"
   ]
  },
  {
   "cell_type": "code",
   "execution_count": 24,
   "metadata": {
    "ExecuteTime": {
     "end_time": "2022-10-29T15:30:53.132207Z",
     "start_time": "2022-10-29T15:30:53.121237Z"
    },
    "id": "BRrb-mb5ET8Q"
   },
   "outputs": [],
   "source": [
    "logistic = LogisticRegression(X_train, y_train)\n",
    "y_pred = logistic.predict(X_test)"
   ]
  },
  {
   "cell_type": "code",
   "execution_count": 25,
   "metadata": {
    "ExecuteTime": {
     "end_time": "2022-10-29T15:30:53.866044Z",
     "start_time": "2022-10-29T15:30:53.729569Z"
    },
    "id": "jUb2tkIMET8Q",
    "colab": {
     "base_uri": "https://localhost:8080/",
     "height": 139
    },
    "outputId": "9b0d5996-f3e0-42f9-b12c-fe165021482e"
   },
   "outputs": [
    {
     "name": "stdout",
     "output_type": "stream",
     "text": [
      "    plane\t    plane\t    plane\t    plane\n"
     ]
    },
    {
     "data": {
      "text/plain": "<Figure size 500x300 with 1 Axes>",
      "image/png": "[encoded data removed]"
     },
     "metadata": {},
     "output_type": "display_data"
    }
   ],
   "source": [
    "X_batch, y_batch = get_batch(X_train, y_train, 4)\n",
    "plt.imshow(make_random_grid(X_batch, y_batch));"
   ]
  },
  {
   "cell_type": "code",
   "execution_count": 26,
   "metadata": {
    "ExecuteTime": {
     "end_time": "2022-10-29T15:31:05.584563Z",
     "start_time": "2022-10-29T15:31:05.559650Z"
    },
    "id": "1I5T0LiBET8Q",
    "colab": {
     "base_uri": "https://localhost:8080/"
    },
    "outputId": "0dde47ad-89c2-4dd6-b781-d1f230a8394d"
   },
   "outputs": [
    {
     "name": "stdout",
     "output_type": "stream",
     "text": [
      "          car         plane         plane           car\n"
     ]
    }
   ],
   "source": [
    "# predictions\n",
    "print(' '.join('%13s' % classes[y_pred[j]] for j in range(4)))"
   ]
  },
  {
   "cell_type": "code",
   "execution_count": 27,
   "metadata": {
    "ExecuteTime": {
     "end_time": "2022-10-29T15:31:10.105426Z",
     "start_time": "2022-10-29T15:31:10.033927Z"
    },
    "id": "29GDDyzIET8Q",
    "colab": {
     "base_uri": "https://localhost:8080/"
    },
    "outputId": "fbbcb4ea-da9b-4651-dad7-3bc654fcfe42"
   },
   "outputs": [
    {
     "name": "stdout",
     "output_type": "stream",
     "text": [
      "model accuracy:  31.830000000000002\n"
     ]
    }
   ],
   "source": [
    "print(\"model accuracy: \", logistic.calc_accuracy(X_train, y_train))"
   ]
  },
  {
   "cell_type": "markdown",
   "metadata": {
    "id": "Vpy2WTyGET8Q"
   },
   "source": [
    "## Binary cross-entropy\n",
    "\n",
    "Your code for this section will written in the next cell. \n",
    "\n",
    "Complete the function `binary_cross_entropy` using vectorized code. This function takes as input the weights, data, labels and outputs the calculated loss as a single number and the gradients with respect to W. (**20 points**)"
   ]
  },
  {
   "cell_type": "code",
   "execution_count": 28,
   "metadata": {
    "ExecuteTime": {
     "end_time": "2022-10-29T15:31:30.874716Z",
     "start_time": "2022-10-29T15:31:30.826315Z"
    },
    "id": "pfjEDW6n3mRu"
   },
   "outputs": [],
   "source": [
    "def binary_cross_entropy(W, X, y):\n",
    "    \"\"\"\n",
    "    Structured BCE loss function. Implement this function using vectorized code.\n",
    "    Inputs:\n",
    "    - W: array of weights\n",
    "    - X: array of data\n",
    "    - y: 1-dimensional array of length N with binary labels (0,1). \n",
    "    Returns:\n",
    "    a tuple of:\n",
    "    - loss as single float\n",
    "    - gradient with respect to weights W; an array of same shape as W\n",
    "    \"\"\"\n",
    "    loss = 0.0\n",
    "    dW = np.zeros(W.shape) # initialize the gradient as zero\n",
    "    #############################################################################\n",
    "    # Implement the function and store result in loss and the gradint in dW     #\n",
    "    # Note: in class you defined BCE that takes values from the range (-1,1).   #\n",
    "    # and the sigmoid function generally outputs values in the range (0,1).     #\n",
    "    # Make the proper adjustments for your code to work.                        #\n",
    "    #############################################################################\n",
    "    num_of_samples = X.shape[0]\n",
    "    z = np.dot(X, W)\n",
    "    sig_z = sigmoid(z).reshape(y.shape)\n",
    "    first_lost_computation = -y * np.log(sig_z)\n",
    "    second_lost_computation = (1 - y) * np.log(1 - sig_z)\n",
    "    vector_loss = first_lost_computation - second_lost_computation\n",
    "    gradient = np.multiply(X.T, sig_z - y)\n",
    "    loss = np.sum(vector_loss) / num_of_samples\n",
    "    dW = np.sum(gradient, axis = 1) * 0.01\n",
    "    #print(\"loss\")\n",
    "    #print(loss)\n",
    "    #print(\"W\")\n",
    "    #print(W.shape)\n",
    "    #print(first_lost_computation.shape)\n",
    "    #print(second_lost_computation.shape)\n",
    "    #print(first_lost_computation)  \n",
    "    #print(\"X.T\")\n",
    "    #print(X.T.shape)\n",
    "    #print(\"sig z\")\n",
    "    #print(sig_z.shape)\n",
    "    #print(\"y\")\n",
    "    #print(y.shape)\n",
    "    #print(\"dW\")\n",
    "    #print(dW.shape)\n",
    "        \n",
    "    \n",
    "    #############################################################################\n",
    "    #                             END OF YOUR CODE                              #\n",
    "    #############################################################################\n",
    "    return loss, dW"
   ]
  },
  {
   "cell_type": "code",
   "execution_count": 29,
   "metadata": {
    "ExecuteTime": {
     "end_time": "2022-10-29T15:31:34.082144Z",
     "start_time": "2022-10-29T15:31:34.066172Z"
    },
    "id": "EvLw8x4oET8Q"
   },
   "outputs": [],
   "source": [
    "W = np.random.randn(3073, 1) * 0.0001"
   ]
  },
  {
   "cell_type": "code",
   "execution_count": 30,
   "metadata": {
    "ExecuteTime": {
     "end_time": "2022-10-29T15:31:36.963381Z",
     "start_time": "2022-10-29T15:31:36.923469Z"
    },
    "id": "1VKKB4y8ET8Q",
    "colab": {
     "base_uri": "https://localhost:8080/"
    },
    "outputId": "03265a7e-b8df-4700-8c04-c90beebae57b"
   },
   "outputs": [
    {
     "name": "stdout",
     "output_type": "stream",
     "text": [
      "loss: 0.706117\n",
      "CPU times: total: 15.6 ms\n",
      "Wall time: 25.3 ms\n"
     ]
    }
   ],
   "source": [
    "%%time\n",
    "loss_naive, grad_naive = binary_cross_entropy(W, X_val, y_val)\n",
    "print ('loss: %f' % (loss_naive, ))"
   ]
  },
  {
   "cell_type": "markdown",
   "metadata": {
    "id": "IawKSQqf8vSq"
   },
   "source": [
    "You are provided with a gradient test in the next cells:"
   ]
  },
  {
   "cell_type": "code",
   "execution_count": 31,
   "metadata": {
    "ExecuteTime": {
     "end_time": "2022-10-29T15:32:14.847516Z",
     "start_time": "2022-10-29T15:32:14.835995Z"
    },
    "id": "nms4Rd7O8s2l"
   },
   "outputs": [],
   "source": [
    "def grad_check(f, x, analytic_grad, num_checks=10, h=1e-5):\n",
    "    for i in range(num_checks):\n",
    "        ix = tuple([randrange(m) for m in x.shape])\n",
    "\n",
    "        oldval = x[ix]\n",
    "        x[ix] = oldval + h # increment by h\n",
    "        fxph = f(x) # evaluate f(x + h)\n",
    "        x[ix] = oldval - h # increment by h\n",
    "        fxmh = f(x) # evaluate f(x - h)\n",
    "        x[ix] = oldval # reset\n",
    "\n",
    "        grad_numerical = (fxph - fxmh) / (2 * h)\n",
    "        grad_analytic = analytic_grad[ix]\n",
    "        rel_error = abs(grad_numerical - grad_analytic) / (abs(grad_numerical) + abs(grad_analytic))\n",
    "        print ('numerical: %f analytic: %f, relative error: %e' % (grad_numerical, grad_analytic, rel_error))"
   ]
  },
  {
   "cell_type": "code",
   "execution_count": 32,
   "metadata": {
    "ExecuteTime": {
     "end_time": "2022-10-29T15:32:16.311794Z",
     "start_time": "2022-10-29T15:32:16.096941Z"
    },
    "id": "i0OWqVCzET8R"
   },
   "outputs": [],
   "source": [
    "loss, grad = binary_cross_entropy(W, X_val, y_val)\n",
    "f = lambda w: binary_cross_entropy(w, X_val, y_val)[0]\n",
    "#grad_numerical = grad_check(f, W, grad)"
   ]
  },
  {
   "cell_type": "markdown",
   "metadata": {
    "id": "r-qL6Ti_ET8R"
   },
   "source": [
    "If implemented correctly, the training procedure you already implemented should work."
   ]
  },
  {
   "cell_type": "code",
   "execution_count": 33,
   "metadata": {
    "ExecuteTime": {
     "end_time": "2022-10-29T15:32:33.879334Z",
     "start_time": "2022-10-29T15:32:29.754892Z"
    },
    "id": "RlW4q5xjET8R",
    "colab": {
     "base_uri": "https://localhost:8080/"
    },
    "outputId": "08d54f52-ce4b-4c67-fd69-d63e0c96e8fa"
   },
   "outputs": [
    {
     "name": "stdout",
     "output_type": "stream",
     "text": [
      "iteration 0 / 1500: loss nan\n"
     ]
    },
    {
     "name": "stderr",
     "output_type": "stream",
     "text": [
      "C:\\Users\\baruc\\AppData\\Local\\Temp\\ipykernel_24240\\1304436003.py:25: RuntimeWarning: divide by zero encountered in log\n",
      "  second_lost_computation = (1 - y) * np.log(1 - sig_z)\n",
      "C:\\Users\\baruc\\AppData\\Local\\Temp\\ipykernel_24240\\1304436003.py:25: RuntimeWarning: invalid value encountered in multiply\n",
      "  second_lost_computation = (1 - y) * np.log(1 - sig_z)\n"
     ]
    },
    {
     "name": "stdout",
     "output_type": "stream",
     "text": [
      "iteration 100 / 1500: loss 3.805023\n",
      "iteration 200 / 1500: loss 0.856118\n",
      "iteration 300 / 1500: loss 0.623383\n",
      "iteration 400 / 1500: loss 0.460141\n",
      "iteration 500 / 1500: loss 0.431413\n",
      "iteration 600 / 1500: loss 0.548363\n",
      "iteration 700 / 1500: loss 0.457411\n",
      "iteration 800 / 1500: loss 0.376235\n",
      "iteration 900 / 1500: loss 0.461711\n",
      "iteration 1000 / 1500: loss 0.414741\n",
      "iteration 1100 / 1500: loss 0.497363\n",
      "iteration 1200 / 1500: loss 0.417438\n",
      "iteration 1300 / 1500: loss 0.428695\n",
      "iteration 1400 / 1500: loss 0.374395\n",
      "CPU times: total: 7.33 s\n",
      "Wall time: 9.25 s\n"
     ]
    }
   ],
   "source": [
    "%%time\n",
    "logistic = LogisticRegression(X_train, y_train)\n",
    "loss_history = logistic.train(X_train, y_train, \n",
    "                         learning_rate=1e-7,\n",
    "                         num_iters=1500,\n",
    "                         verbose=True)"
   ]
  },
  {
   "cell_type": "code",
   "execution_count": 34,
   "metadata": {
    "ExecuteTime": {
     "end_time": "2022-10-29T15:32:34.608148Z",
     "start_time": "2022-10-29T15:32:34.441343Z"
    },
    "id": "v_6Pf6lYET8R",
    "scrolled": true,
    "colab": {
     "base_uri": "https://localhost:8080/",
     "height": 225
    },
    "outputId": "edbc856e-00d8-4c0f-dfca-3f0e7cdd39df"
   },
   "outputs": [
    {
     "data": {
      "text/plain": "<Figure size 500x300 with 1 Axes>",
      "image/png": "[encoded data removed]"
     },
     "metadata": {},
     "output_type": "display_data"
    }
   ],
   "source": [
    "plt.plot(loss_history)\n",
    "plt.xlabel('Iteration number')\n",
    "plt.ylabel('Loss value')\n",
    "plt.show()"
   ]
  },
  {
   "cell_type": "code",
   "execution_count": 35,
   "metadata": {
    "ExecuteTime": {
     "end_time": "2022-10-29T15:32:35.262213Z",
     "start_time": "2022-10-29T15:32:35.201690Z"
    },
    "id": "4S2RkwT3ET8R",
    "colab": {
     "base_uri": "https://localhost:8080/"
    },
    "outputId": "643cf24c-74a5-46a8-e80d-0b26cc68f9ce"
   },
   "outputs": [
    {
     "name": "stdout",
     "output_type": "stream",
     "text": [
      "Training accuracy:  81.69999999999999\n",
      "Testing accuracy:  81.39999999999999\n"
     ]
    }
   ],
   "source": [
    "print(\"Training accuracy: \", logistic.calc_accuracy(X_train, y_train))\n",
    "print(\"Testing accuracy: \", logistic.calc_accuracy(X_test, y_test))"
   ]
  },
  {
   "cell_type": "markdown",
   "metadata": {
    "id": "G-1hg3RWET8R"
   },
   "source": [
    "## Hyperparameter optimization\n",
    "\n",
    "Your model should have improved from 50% accuracy to ~75% accuracy in a matter of seconds. Now, use the validation set to tune hyperparameters by training different models (using the training dataset) and evaluating the performance using the validation dataset. Save the results in a dictionary mapping tuples of the form `(learning_rate, batch_size)` to tuples of the form `(training_accuracy, validation_accuracy)`. Finally, you should evaluate the best model on the testing dataset. \n",
    "\n",
    "Use a small value for the number of iterations as you develop your code. Once you are confident that everything works, run it again for more iterations. **(5 points)**"
   ]
  },
  {
   "cell_type": "code",
   "execution_count": 36,
   "metadata": {
    "ExecuteTime": {
     "end_time": "2022-10-29T15:34:05.819661Z",
     "start_time": "2022-10-29T15:33:33.339414Z"
    },
    "id": "sxXvTbhJET8R",
    "colab": {
     "base_uri": "https://localhost:8080/"
    },
    "outputId": "130db639-08d6-49f9-de7e-81cc8a4d7f4e"
   },
   "outputs": [
    {
     "name": "stdout",
     "output_type": "stream",
     "text": [
      "iteration 0 / 1000: loss 25.902331\n",
      "iteration 100 / 1000: loss inf\n",
      "iteration 200 / 1000: loss 0.000000\n",
      "iteration 300 / 1000: loss 80.010193\n",
      "iteration 400 / 1000: loss 0.064433\n",
      "iteration 500 / 1000: loss 44.025890\n",
      "iteration 600 / 1000: loss nan\n",
      "iteration 700 / 1000: loss 14.862102\n",
      "iteration 800 / 1000: loss 0.000038\n",
      "iteration 900 / 1000: loss inf\n",
      "iteration 0 / 1000: loss nan\n"
     ]
    },
    {
     "name": "stderr",
     "output_type": "stream",
     "text": [
      "C:\\Users\\baruc\\AppData\\Local\\Temp\\ipykernel_24240\\1304436003.py:25: RuntimeWarning: divide by zero encountered in log\n",
      "  second_lost_computation = (1 - y) * np.log(1 - sig_z)\n",
      "C:\\Users\\baruc\\AppData\\Local\\Temp\\ipykernel_24240\\1304436003.py:25: RuntimeWarning: invalid value encountered in multiply\n",
      "  second_lost_computation = (1 - y) * np.log(1 - sig_z)\n"
     ]
    },
    {
     "name": "stdout",
     "output_type": "stream",
     "text": [
      "iteration 100 / 1000: loss nan\n",
      "iteration 200 / 1000: loss 4.409854\n",
      "iteration 300 / 1000: loss 1.251347\n",
      "iteration 400 / 1000: loss 0.652953\n",
      "iteration 500 / 1000: loss 0.587475\n",
      "iteration 600 / 1000: loss 0.447425\n",
      "iteration 700 / 1000: loss 0.541830\n",
      "iteration 800 / 1000: loss 0.338354\n",
      "iteration 900 / 1000: loss 0.366190\n",
      "iteration 0 / 1000: loss nan\n",
      "iteration 100 / 1000: loss 3.560036\n",
      "iteration 200 / 1000: loss 0.717230\n",
      "iteration 300 / 1000: loss 0.604189\n",
      "iteration 400 / 1000: loss 0.469624\n",
      "iteration 500 / 1000: loss 0.430716\n",
      "iteration 600 / 1000: loss 0.446242\n",
      "iteration 700 / 1000: loss 0.415434\n",
      "iteration 800 / 1000: loss 0.341407\n",
      "iteration 900 / 1000: loss 0.408081\n",
      "iteration 0 / 1000: loss nan\n",
      "iteration 100 / 1000: loss 0.540717\n",
      "iteration 200 / 1000: loss 0.397130\n",
      "iteration 300 / 1000: loss 0.453709\n",
      "iteration 400 / 1000: loss 0.435572\n",
      "iteration 500 / 1000: loss 0.429710\n",
      "iteration 600 / 1000: loss 0.407943\n",
      "iteration 700 / 1000: loss 0.397492\n",
      "iteration 800 / 1000: loss 0.401599\n",
      "iteration 900 / 1000: loss 0.425606\n",
      "iteration 0 / 1000: loss 60.319274\n",
      "iteration 100 / 1000: loss 65.537221\n",
      "iteration 200 / 1000: loss 18.705507\n",
      "iteration 300 / 1000: loss 19.530301\n",
      "iteration 400 / 1000: loss 0.000000\n",
      "iteration 500 / 1000: loss 0.000305\n",
      "iteration 600 / 1000: loss 1.115795\n",
      "iteration 700 / 1000: loss 0.036339\n",
      "iteration 800 / 1000: loss 5.917784\n",
      "iteration 900 / 1000: loss 4.722684\n",
      "iteration 0 / 1000: loss nan\n",
      "iteration 100 / 1000: loss 0.782826\n",
      "iteration 200 / 1000: loss 0.625940\n",
      "iteration 300 / 1000: loss 0.576201\n",
      "iteration 400 / 1000: loss 0.364756\n",
      "iteration 500 / 1000: loss 0.439446\n",
      "iteration 600 / 1000: loss 0.445716\n",
      "iteration 700 / 1000: loss 0.457481\n",
      "iteration 800 / 1000: loss 0.439026\n",
      "iteration 900 / 1000: loss 0.416390\n",
      "iteration 0 / 1000: loss nan\n",
      "iteration 100 / 1000: loss 0.779284\n",
      "iteration 200 / 1000: loss 0.746398\n",
      "iteration 300 / 1000: loss 0.525329\n",
      "iteration 400 / 1000: loss 0.696692\n",
      "iteration 500 / 1000: loss 0.617118\n",
      "iteration 600 / 1000: loss 0.875767\n",
      "iteration 700 / 1000: loss 0.484186\n",
      "iteration 800 / 1000: loss 1.531030\n",
      "iteration 900 / 1000: loss 1.128883\n",
      "iteration 0 / 1000: loss nan\n",
      "iteration 100 / 1000: loss 1.501176\n",
      "iteration 200 / 1000: loss nan\n",
      "iteration 300 / 1000: loss nan\n",
      "iteration 400 / 1000: loss nan\n",
      "iteration 500 / 1000: loss nan\n",
      "iteration 600 / 1000: loss nan\n",
      "iteration 700 / 1000: loss nan\n",
      "iteration 800 / 1000: loss nan\n",
      "iteration 900 / 1000: loss nan\n",
      "lr 1.000000e-07 batch_size 1.000000e+00 train accuracy: 32.030000 val accuracy: 31.000000\n",
      "lr 1.000000e-07 batch_size 1.000000e+02 train accuracy: 80.080000 val accuracy: 81.000000\n",
      "lr 1.000000e-07 batch_size 2.000000e+02 train accuracy: 81.280000 val accuracy: 81.900000\n",
      "lr 1.000000e-07 batch_size 5.000000e+02 train accuracy: 82.100000 val accuracy: 82.500000\n",
      "lr 5.000000e-06 batch_size 1.000000e+00 train accuracy: 76.110000 val accuracy: 77.900000\n",
      "lr 5.000000e-06 batch_size 1.000000e+02 train accuracy: 82.540000 val accuracy: 81.900000\n",
      "lr 5.000000e-06 batch_size 2.000000e+02 train accuracy: 80.520000 val accuracy: 79.700000\n",
      "lr 5.000000e-06 batch_size 5.000000e+02 train accuracy: 77.020000 val accuracy: 76.800000\n",
      "best validation accuracy achieved during cross-validation: 82.500000\n",
      "Binary logistic regression on raw pixels final test set accuracy: 81.600000\n"
     ]
    }
   ],
   "source": [
    "# You are encouraged to experiment with additional values\n",
    "learning_rates = [1e-7, 5e-6]\n",
    "batch_sizes = [1, 100, 200, 500]\n",
    "\n",
    "results = {}\n",
    "best_val = -1   # The highest validation accuracy that we have seen so far.\n",
    "best_logistic = None # The LogisticRegression object that achieved the highest validation rate.\n",
    "\n",
    "################################################################################\n",
    "#                            START OF YOUR CODE                                #\n",
    "################################################################################\n",
    "for lr in learning_rates:\n",
    "    for bs in batch_sizes:\n",
    "        num_of_iters = 1000 #random number of iters\n",
    "        current_logistic_regression = LogisticRegression(X_train, y_train)\n",
    "        current_logistic_regression.train(X = X_train, y = y_train, learning_rate = lr, num_iters = num_of_iters, batch_size = bs, verbose = True)\n",
    "        current_train_accuracy = current_logistic_regression.calc_accuracy(X_train, y_train)\n",
    "        current_val_accuracy = current_logistic_regression.calc_accuracy(X_val, y_val)\n",
    "        results[(lr, bs)] = (current_train_accuracy, current_val_accuracy)\n",
    "\n",
    "        if current_val_accuracy > best_val:\n",
    "           best_val = current_val_accuracy\n",
    "           best_logistic = current_logistic_regression\n",
    "\n",
    "\n",
    "################################################################################\n",
    "#                              END OF YOUR CODE                                #\n",
    "################################################################################\n",
    "    \n",
    "# Print out results.\n",
    "for lr, batch_size in sorted(results):\n",
    "    train_accuracy, val_accuracy = results[(lr, batch_size)]\n",
    "    print ('lr %e batch_size %e train accuracy: %f val accuracy: %f' % (\n",
    "                lr, batch_size, train_accuracy, val_accuracy))\n",
    "    \n",
    "print ('best validation accuracy achieved during cross-validation: %f' % best_val)\n",
    "\n",
    "test_accuracy = best_logistic.calc_accuracy(X_test, y_test)\n",
    "print ('Binary logistic regression on raw pixels final test set accuracy: %f' % test_accuracy)"
   ]
  },
  {
   "cell_type": "markdown",
   "metadata": {
    "id": "rdRdvKwR7MdF"
   },
   "source": [
    "# The End!"
   ]
  }
 ],
 "metadata": {
  "colab": {
   "provenance": []
  },
  "kernelspec": {
   "display_name": "Python 3 (ipykernel)",
   "language": "python",
   "name": "python3"
  },
  "language_info": {
   "codemirror_mode": {
    "name": "ipython",
    "version": 3
   },
   "file_extension": ".py",
   "mimetype": "text/x-python",
   "name": "python",
   "nbconvert_exporter": "python",
   "pygments_lexer": "ipython3",
   "version": "3.9.13"
  },
  "toc": {
   "base_numbering": 1,
   "nav_menu": {},
   "number_sections": true,
   "sideBar": true,
   "skip_h1_title": false,
   "title_cell": "Table of Contents",
   "title_sidebar": "Contents",
   "toc_cell": false,
   "toc_position": {},
   "toc_section_display": true,
   "toc_window_display": false
  },
  "varInspector": {
   "cols": {
    "lenName": 16,
    "lenType": 16,
    "lenVar": 40
   },
   "kernels_config": {
    "python": {
     "delete_cmd_postfix": "",
     "delete_cmd_prefix": "del ",
     "library": "var_list.py",
     "varRefreshCmd": "print(var_dic_list())"
    },
    "r": {
     "delete_cmd_postfix": ") ",
     "delete_cmd_prefix": "rm(",
     "library": "var_list.r",
     "varRefreshCmd": "cat(var_dic_list()) "
    }
   },
   "types_to_exclude": [
    "module",
    "function",
    "builtin_function_or_method",
    "instance",
    "_Feature"
   ],
   "window_display": false
  }
 },
 "nbformat": 4,
 "nbformat_minor": 0
}
